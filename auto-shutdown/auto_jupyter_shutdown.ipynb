{
 "cells": [
  {
   "cell_type": "markdown",
   "metadata": {},
   "source": [
    "Summary things learn:\n",
    "\n",
    "* you can do multiline to create a single line by using (). this joins the text to line one\n",
    "* you can do the same with \"\"\" \"\"\"\" for multiline text but this one keeps the tabs and new line\n",
    "* jupyter's api https://github.com/jupyter/jupyter/wiki/Jupyter-Notebook-Server-API#Sessions-API\n",
    "* how to change config with command line jupter lab --help-all"
   ]
  },
  {
   "source": [
    "import requests\n",
    "from IPython.display import JSON"
   ],
   "cell_type": "code",
   "outputs": [],
   "metadata": {},
   "execution_count": 1
  },
  {
   "cell_type": "markdown",
   "metadata": {},
   "source": [
    "source https://stackoverflow.com/questions/41782255/how-to-get-the-current-jupyter-notebook-servers-in-python\n",
    "https://jupyter-notebook.readthedocs.io/en/stable/\n",
    "\n",
    "this doesn't work. only for jupyter server and not sagemaker\n",
    "https://jupyterhub.readthedocs.io/en/stable/reference/config-user-env.html\n",
    "\n",
    "```python\n",
    "%%javascript  \n",
    "IPython.notebook.save_notebook()\n",
    "```\n",
    "\n",
    "```python\n",
    "!jupyter notebook list\n",
    "```\n",
    "\n",
    "\n",
    "To see all available configurables, use `--help-all`\n",
    "\n",
    "Examples\n",
    "--------\n",
    "\n",
    "    jupyter notebook                       # start the notebook\n",
    "    jupyter notebook --certfile=mycert.pem # use SSL/TLS certificate\n",
    "    jupyter notebook password              # enter a password to protect the server"
   ]
  },
  {
   "cell_type": "markdown",
   "metadata": {},
   "source": [
    "## Where the magic happens\n",
    "\n",
    "TODO\n",
    "\n",
    "* Need to add psutil get the average cpu/gpu if people are using terminal to run code instead of notebook\n",
    "* should add a time range that is related to office hour t =o not run. \n",
    "* something to do with gpu usage as well. \n",
    "* I can totally unit test this..\n",
    "* put this at github totally!. \n",
    "* add cron tutorial on readme so anyone can use it without understanding. like cron second hour day month dayof week etc...\n",
    "* tutorial on how to run this..."
   ]
  },
  {
   "cell_type": "markdown",
   "metadata": {},
   "source": [
    "## Obtain jupyter's status"
   ]
  },
  {
   "source": [
    "# this code follows below links\n",
    "# https://github.com/jupyter/notebook/blob/f354740e57f206d67bfb077a9f23bb8d22b6b311/notebook/notebookapp.py#L413\n",
    "# https://github.com/aws-samples/amazon-sagemaker-notebook-instance-lifecycle-config-samples/blob/master/scripts/auto-stop-idle/autostop.py\n",
    "\n",
    "from notebook import notebookapp\n",
    "import requests\n",
    "from datetime import datetime, timedelta\n",
    "import json\n",
    "import click\n",
    "\n",
    "server_info = list(notebookapp.list_running_servers())[0]  # assume there are only 1 jupyter session\n",
    "url = server_info['url']\n",
    "headers = {'Authorization': 'token ' + server_info['token'], \n",
    "           'Connection':'close'}  # https://stackoverflow.com/a/15511852\n",
    "# https://github.com/jupyter/jupyter/wiki/Jupyter-Notebook-Server-API#Sessions-API\n",
    "# can also with api/kernels instead\n",
    "response = requests.get(url + 'api/sessions', \n",
    "                        headers=headers, \n",
    "                        verify=False)  # https://requests.readthedocs.io/en/master/user/advanced/\n",
    "data = response.json()"
   ],
   "cell_type": "code",
   "outputs": [],
   "metadata": {},
   "execution_count": 4
  },
  {
   "source": [
    "data"
   ],
   "cell_type": "code",
   "outputs": [
    {
     "output_type": "execute_result",
     "data": {
      "text/plain": "[{'id': '2868c06b-2ea6-4d32-9b0c-f54959f07710',\n  'path': 'Untitled.ipynb',\n  'name': '0f6f06aa-d305-442a-86ae-b1ab1399a0f0',\n  'type': '',\n  'kernel': {'id': '04f2750f-b609-49e6-aa15-345bede90119',\n   'name': 'python3',\n   'last_activity': '2020-01-23T06:45:53.672333Z',\n   'execution_state': 'idle',\n   'connections': 1}}]"
     },
     "metadata": {},
     "execution_count": 5
    }
   ],
   "metadata": {},
   "execution_count": 5
  },
  {
   "cell_type": "markdown",
   "metadata": {},
   "source": [
    "---"
   ]
  },
  {
   "cell_type": "markdown",
   "metadata": {},
   "source": [
    "## Command line interface"
   ]
  },
  {
   "cell_type": "code",
   "execution_count": null,
   "metadata": {},
   "outputs": [],
   "source": [
    "import click\n",
    "## TODO: Add how often you want to check?? I think that is for the cron no??\n",
    "\n",
    "@click.command()\n",
    "@click.option(\n",
    "    '--port', '-p',\n",
    "    default='8443',\n",
    "    help='port number of the jupyter server. default is 8443'\n",
    ")\n",
    "@click.option(\n",
    "    '--idle-time', '-t',\n",
    "    default=3600,\n",
    "    help='Auto stop time in seconds. default 1 hour'\n",
    ")\n",
    "@click.option(\n",
    "    '--ignore-connections',\n",
    "    is_flag=True,\n",
    "    help='Stop notebook once idle, ignore connected users'\n",
    ")\n",
    "\n",
    "# Auto shutdown is stateless. Each time it runs, it check if it is idle\n",
    "def main(port, idle_time, ignore_connections):\n",
    "    print(\"Starting auto shutdown\")\n",
    "    print(f'args {port}, {idle_time}, {ignore_connections}')\n",
    "\n",
    "\n",
    "if __name__ == \"__main__\":\n",
    "    main()\n",
    "    "
   ]
  },
  {
   "cell_type": "markdown",
   "metadata": {},
   "source": [
    "---"
   ]
  },
  {
   "cell_type": "markdown",
   "metadata": {},
   "source": [
    "## Determine if idle"
   ]
  },
  {
   "cell_type": "code",
   "execution_count": null,
   "metadata": {},
   "outputs": [],
   "source": []
  },
  {
   "cell_type": "code",
   "execution_count": null,
   "metadata": {},
   "outputs": [],
   "source": [
    "# not sure what this does...\n",
    "# import urllib3\n",
    "# urllib3.disable_warnings(urllib3.exceptions.InsecureRequestWarning)"
   ]
  },
  {
   "cell_type": "code",
   "execution_count": 14,
   "metadata": {},
   "outputs": [
    {
     "data": {
      "text/plain": [
       "['idle', 'idle', 'busy']"
      ]
     },
     "execution_count": 14,
     "metadata": {},
     "output_type": "execute_result"
    }
   ],
   "source": [
    "# [n.get('kernel', {}).get('execution_state') for n in data]"
   ]
  },
  {
   "cell_type": "code",
   "execution_count": null,
   "metadata": {},
   "outputs": [],
   "source": [
    "# def is_idle(last_activity):\n",
    "#     last_activity = datetime.strptime(last_activity,\"%Y-%m-%dT%H:%M:%S.%fz\")\n",
    "#     # jupyter use utc time\n",
    "#     if (datetime.utcnow() - last_activity).total_seconds() > time:\n",
    "#         return True\n",
    "#     else:\n",
    "#         return False"
   ]
  },
  {
   "cell_type": "code",
   "execution_count": 35,
   "metadata": {},
   "outputs": [],
   "source": [
    "# Read in command-line parameters\n",
    "# idle = True\n",
    "# ignore_connections = False\n",
    "# idle_max = 60*60  # 1 hour"
   ]
  },
  {
   "cell_type": "code",
   "execution_count": 37,
   "metadata": {},
   "outputs": [
    {
     "data": {
      "text/plain": [
       "True"
      ]
     },
     "execution_count": 37,
     "metadata": {},
     "output_type": "execute_result"
    }
   ],
   "source": [
    "def time_diff(last_activity):\n",
    "    last_activity = datetime.strptime(last_activity,\"%Y-%m-%dT%H:%M:%S.%fz\")\n",
    "    return (datetime.utcnow() - last_activity).total_seconds()\n",
    "\n",
    "# TODO: not sure what this do\n",
    "def get_notebook_name():\n",
    "    log_path = '/opt/ml/metadata/resource-metadata.json'\n",
    "    with open(log_path, 'r') as logs:\n",
    "        _logs = json.load(logs)\n",
    "    return _logs['ResourceName']"
   ]
  },
  {
   "cell_type": "code",
   "execution_count": null,
   "metadata": {},
   "outputs": [],
   "source": [
    "def is_idle(data):\n",
    "    \"\"\"Determine if jupyter is idle based on inputs\"\"\"\n",
    "    idle_min = idle_time\n",
    "    idle = True\n",
    "    for notebook in data:\n",
    "        # Idleness is defined by Jupyter\n",
    "        # https://github.com/jupyter/notebook/issues/4634\n",
    "        kernel_info = notebook.get('kernel', {})\n",
    "        # As long as there is atleast 1 active notebook\n",
    "        if kernel_info.get('execution_state') == 'busy':\n",
    "            idle = False\n",
    "        \n",
    "        # As long as someone is connected to a notebook\n",
    "        if not ignore_connections & kernel_info.get('connections', 0) > 0:\n",
    "            idle = False\n",
    "        \n",
    "        # idle in seconds based on the latest activity for all notebook\n",
    "        if kernel_info.get('execution_state') == 'idle':\n",
    "            idle_min = min(time_diff(noteb), idle_min)\n",
    "            if idle_min >= idle_time:\n",
    "                idle = False\n",
    "        \n",
    "        # It only takes one non-idle connection\n",
    "        if not idle:\n",
    "            break\n",
    "        \n",
    "    return idle"
   ]
  },
  {
   "cell_type": "code",
   "execution_count": 20,
   "metadata": {},
   "outputs": [
    {
     "data": {
      "text/plain": [
       "datetime.datetime(2020, 1, 20, 19, 48, 10, 446475)"
      ]
     },
     "execution_count": 20,
     "metadata": {},
     "output_type": "execute_result"
    }
   ],
   "source": [
    "if len(data) > 0:\n",
    "    idle = is_idle(data)\n",
    "\n",
    "# Use case is when SageMaker first launch with has zero active notebooks so need to give it some time\n",
    "# Also it will shutdown once all notebooks are closed. \n",
    "else:\n",
    "    # simplier way could be just \n",
    "    client = boto3.client('sagemaker')\n",
    "    uptime = client.describe_notebook_instance(\n",
    "        NotebookInstanceName=get_notebook_name()\n",
    "    )['LastModifiedTime']\n",
    "    # NOT sure if sagemaker is using utc??\n",
    "    # but I should be using time_diff... \n",
    "    # Bug? This is shutdown once there are zero notebook. If you just happens to close\n",
    "    # everything during the time cron checks, it will shutdown..\n",
    "    if not is_idle(uptime.strftime(\"%Y-%m-%dT%H:%M:%S.%fz\")):\n",
    "        idle = False\n",
    "\n",
    "        \n",
    "# TODO: Add the ability to have psutil cpu/gpu monitoring? Just in case script is using terminal instead\n",
    "        # simple way is just to do monitoring of cpu/gpu for the next ten minutes if below then shut down. \n",
    "        # should record idle sttate to see how much is being used...\n",
    "if idle:\n",
    "    client = boto3.client('sagemaker')\n",
    "    client.stop_notebook_instance(\n",
    "        NotebookInstanceName=get_notebook_name()\n",
    "    )"
   ]
  },
  {
   "cell_type": "code",
   "execution_count": 48,
   "metadata": {},
   "outputs": [],
   "source": [
    "# https://stackoverflow.com/a/2175170\n",
    "UTC_OFFSET_TIMEDELTA = datetime.utcnow() - datetime.now()"
   ]
  },
  {
   "cell_type": "markdown",
   "metadata": {},
   "source": [
    "## End of magic\n",
    "---"
   ]
  },
  {
   "cell_type": "code",
   "execution_count": null,
   "metadata": {},
   "outputs": [],
   "source": []
  },
  {
   "cell_type": "code",
   "execution_count": null,
   "metadata": {},
   "outputs": [],
   "source": []
  },
  {
   "cell_type": "code",
   "execution_count": null,
   "metadata": {},
   "outputs": [],
   "source": []
  },
  {
   "cell_type": "code",
   "execution_count": null,
   "metadata": {},
   "outputs": [],
   "source": []
  },
  {
   "cell_type": "code",
   "execution_count": null,
   "metadata": {},
   "outputs": [],
   "source": []
  },
  {
   "cell_type": "code",
   "execution_count": null,
   "metadata": {},
   "outputs": [],
   "source": []
  },
  {
   "cell_type": "code",
   "execution_count": null,
   "metadata": {},
   "outputs": [],
   "source": []
  },
  {
   "cell_type": "code",
   "execution_count": null,
   "metadata": {},
   "outputs": [],
   "source": []
  },
  {
   "cell_type": "markdown",
   "metadata": {},
   "source": [
    "## Random save"
   ]
  },
  {
   "cell_type": "code",
   "execution_count": 18,
   "metadata": {},
   "outputs": [
    {
     "data": {
      "text/plain": [
       "'testing multiple lineswassup this is 2nd linethird line reporting for duyt'"
      ]
     },
     "execution_count": 18,
     "metadata": {},
     "output_type": "execute_result"
    }
   ],
   "source": [
    "tmp = (\"testing multiple lines\"\n",
    "       \"wassup this is 2nd line\"\n",
    "       \"third line reporting for duty\")\n",
    "tmp"
   ]
  },
  {
   "cell_type": "code",
   "execution_count": 19,
   "metadata": {},
   "outputs": [
    {
     "data": {
      "text/plain": [
       "'testing multiple lines \\n        wassup this is 2nd line\\n       third line reporting for duty'"
      ]
     },
     "execution_count": 19,
     "metadata": {},
     "output_type": "execute_result"
    }
   ],
   "source": [
    "tmp = (\"\"\"testing multiple lines \n",
    "        wassup this is 2nd line\n",
    "       third line reporting for duty\"\"\")\n",
    "tmp"
   ]
  },
  {
   "cell_type": "code",
   "execution_count": null,
   "metadata": {},
   "outputs": [],
   "source": [
    "shutdown_no_activity_timeout"
   ]
  },
  {
   "cell_type": "code",
   "execution_count": null,
   "metadata": {},
   "outputs": [],
   "source": []
  },
  {
   "cell_type": "code",
   "execution_count": 15,
   "metadata": {},
   "outputs": [
    {
     "data": {
      "text/plain": "datetime.datetime(2020, 1, 23, 7, 10, 37, 864361)"
     },
     "execution_count": 15,
     "metadata": {},
     "output_type": "execute_result"
    }
   ],
   "source": [
    "tmp = datetime.utcnow()\n",
    "tmp"
   ]
  },
  {
   "cell_type": "code",
   "execution_count": 27,
   "metadata": {},
   "outputs": [
    {
     "data": {
      "text/plain": "datetime.datetime(2020, 1, 23, 7, 14, 14, 534918)"
     },
     "execution_count": 27,
     "metadata": {},
     "output_type": "execute_result"
    }
   ],
   "source": [
    "tmp3 = datetime.utcnow()\n",
    "tmp3"
   ]
  },
  {
   "cell_type": "code",
   "execution_count": 33,
   "metadata": {},
   "outputs": [
    {
     "data": {
      "text/plain": "216"
     },
     "execution_count": 33,
     "metadata": {},
     "output_type": "execute_result"
    }
   ],
   "source": [
    "int((tmp3 - tmp).total_seconds())"
   ]
  },
  {
   "cell_type": "code",
   "execution_count": 24,
   "metadata": {},
   "outputs": [
    {
     "data": {
      "text/plain": "datetime.datetime(2020, 1, 23, 9, 57, 17, 864361)"
     },
     "execution_count": 24,
     "metadata": {},
     "output_type": "execute_result"
    }
   ],
   "source": [
    "tmp2 = tmp + timedelta(seconds=10000)\n",
    "tmp2"
   ]
  },
  {
   "cell_type": "code",
   "execution_count": 21,
   "metadata": {},
   "outputs": [
    {
     "data": {
      "text/plain": "True"
     },
     "execution_count": 21,
     "metadata": {},
     "output_type": "execute_result"
    }
   ],
   "source": [
    "(tmp2 - tmp) == timedelta(seconds=60)"
   ]
  },
  {
   "cell_type": "code",
   "execution_count": 25,
   "metadata": {},
   "outputs": [
    {
     "data": {
      "text/plain": "10000.0"
     },
     "execution_count": 25,
     "metadata": {},
     "output_type": "execute_result"
    }
   ],
   "source": [
    "(tmp2 - tmp).total_seconds()"
   ]
  },
  {
   "cell_type": "code",
   "execution_count": 26,
   "metadata": {},
   "outputs": [
    {
     "data": {
      "text/plain": "datetime.timedelta(seconds=10000)"
     },
     "execution_count": 26,
     "metadata": {},
     "output_type": "execute_result"
    }
   ],
   "source": [
    "(tmp2 - tmp)"
   ]
  },
  {
   "cell_type": "code",
   "execution_count": null,
   "metadata": {},
   "outputs": [],
   "source": []
  },
  {
   "cell_type": "code",
   "execution_count": null,
   "metadata": {},
   "outputs": [],
   "source": []
  },
  {
   "cell_type": "code",
   "execution_count": null,
   "metadata": {},
   "outputs": [],
   "source": []
  }
 ],
 "metadata": {
  "kernelspec": {
   "display_name": "Python 3",
   "language": "python",
   "name": "python3"
  },
  "language_info": {
   "codemirror_mode": {
    "name": "ipython",
    "version": 3
   },
   "file_extension": ".py",
   "mimetype": "text/x-python",
   "name": "python",
   "nbconvert_exporter": "python",
   "pygments_lexer": "ipython3",
   "version": "3.7.4-final"
  }
 },
 "nbformat": 4,
 "nbformat_minor": 4
}