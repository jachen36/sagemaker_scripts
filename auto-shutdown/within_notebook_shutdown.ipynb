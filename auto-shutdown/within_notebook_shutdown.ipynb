{
 "cells": [
  {
   "cell_type": "markdown",
   "metadata": {},
   "source": [
    "# Shutdown server after script is finishing running. \n",
    "\n",
    "One major flaw with this approach is that if the script have an error in the middle, it will not properly shutdown. "
   ]
  },
  {
   "cell_type": "markdown",
   "metadata": {},
   "source": [
    "# Run your script\n",
    "\n",
    "```python\n",
    "import time\n",
    "from pathlib import Path\n",
    "\n",
    "print('Run your scripts. Whatever it may be')\n",
    "```"
   ]
  },
  {
   "cell_type": "markdown",
   "metadata": {},
   "source": [
    "# Capture output so that you can exit the browser and still have the results. \n",
    "\n",
    "```python\n",
    "%%capture --no-display output_var\n",
    "for i in range(100):\n",
    "    print(f'testing {i}')\n",
    "# the output is saved in variable output_var\n",
    "# variable is IPython.utils.capture.CapturedIO\n",
    "# write it to a file\n",
    "```"
   ]
  },
  {
   "cell_type": "markdown",
   "metadata": {},
   "source": [
    "# Save the notebook right after script"
   ]
  },
  {
   "cell_type": "markdown",
   "metadata": {},
   "source": [
    "## First Approach\n",
    "\n",
    "Run the code in between the code below. \n",
    "\n",
    "```python\n",
    "%autosave 120  # change the autosve frequence for individual notebook\n",
    "# you can use this line instead and use time.sleep() so that it automatically saves itself before shutdown.\n",
    "\n",
    "# run your script in the middle\n",
    "\n",
    "# sleep long enough that the autosave will kick in\n",
    "import time\n",
    "time.sleep(160) \n",
    "```"
   ]
  },
  {
   "cell_type": "markdown",
   "metadata": {},
   "source": [
    "## Second Approach\n",
    "\n",
    "Run the code after the scripts. \n",
    "\n",
    "```python\n",
    "%%javascript\n",
    "IPython.notebook.save_notebook()  # This only works in jupyter notebook and not in jupyter lab. \n",
    "\n",
    "# save_notebook() doesn't do it instantly so give it some time before shutdown. \n",
    "import time\n",
    "time.sleep(60) \n",
    "```"
   ]
  },
  {
   "cell_type": "markdown",
   "metadata": {},
   "source": [
    "# Shutdown\n",
    "\n",
    "For you own personal ubuntu, you can setup shutdown to be passwordless. [source](https://askubuntu.com/questions/168879/shutdown-from-terminal-without-entering-password)"
   ]
  },
  {
   "cell_type": "markdown",
   "metadata": {},
   "source": [
    "## Shutdown on Sagemaker\n",
    "\n",
    "```python\n",
    "import boto3\n",
    "def get_notebook_name():\n",
    "    \"\"\"Get Sagemaker ID\"\"\"\n",
    "    log_path = '/opt/ml/metadata/resource-metadata.json'\n",
    "    with open(log_path, 'r') as logs:\n",
    "        _logs = json.load(logs)\n",
    "    return _logs['ResourceName']\n",
    "\n",
    "client = boto3.client('sagemaker')\n",
    "client.stop_notebook_instance(NotebookInstanceName=get_notebook_name()\n",
    "```"
   ]
  },
  {
   "cell_type": "markdown",
   "metadata": {},
   "source": [
    "## To shutdown Jupyter Only\n",
    "\n",
    "```python\n",
    "from notebook import notebookapp\n",
    "import requests\n",
    "server_info = list(notebookapp.list_running_servers())[0]\n",
    "headers = {'Authorization': 'token ' + server_info['token'], \n",
    "           'Connection':'close'}  # [s3] to be safe\n",
    "response = requests.post(server_info['url'] + 'api/shutdown',  # [s4] sessions has more info than api/kernels\n",
    "                        headers=headers, \n",
    "                        verify=False)  # [s5] do not verify ssl ceritificates\n",
    "```"
   ]
  }
 ],
 "metadata": {
  "kernelspec": {
   "display_name": "Python 3",
   "language": "python",
   "name": "python3"
  },
  "language_info": {
   "codemirror_mode": {
    "name": "ipython",
    "version": 3
   },
   "file_extension": ".py",
   "mimetype": "text/x-python",
   "name": "python",
   "nbconvert_exporter": "python",
   "pygments_lexer": "ipython3",
   "version": "3.7.4"
  }
 },
 "nbformat": 4,
 "nbformat_minor": 4
}
